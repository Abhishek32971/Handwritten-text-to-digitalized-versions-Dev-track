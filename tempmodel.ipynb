{
 "cells": [
  {
   "cell_type": "code",
   "execution_count": 2,
   "metadata": {},
   "outputs": [],
   "source": [
    "import tensorflow as tf\n",
    "from tensorflow import keras\n",
    "from keras.datasets import mnist    \n",
    "import pandas as pd\n",
    "import numpy as np  \n",
    "import csv"
   ]
  },
  {
   "cell_type": "code",
   "execution_count": 3,
   "metadata": {},
   "outputs": [],
   "source": [
    "dataset='A_ZHandwrittenData.csv' \n"
   ]
  },
  {
   "cell_type": "code",
   "execution_count": 4,
   "metadata": {},
   "outputs": [],
   "source": [
    "\n",
    "# x=pd.read_csv(datapath)         \n",
    "# # print(x)\n",
    "# for row in x:\n",
    "#         row=row.split(\",\")\n",
    "#         #print(row)\n",
    "        \n",
    "data=[]\n",
    "lables=[]\n",
    "for row in open(dataset):\n",
    "        row=row.split(\",\")\n",
    "        label=int(row[0])\n",
    "        image=np.array([int(i) for i in row[1:]],dtype=\"uint8\")\n",
    "#image is set to digits of all the 784 rows,and set as grayscale pixel which consist of numbers from 0 to 255\n",
    "\n",
    "        # print(image.shape)\n",
    "        if(image.shape==(784,)):\n",
    "                image=image.reshape((28,28))#each image reshaped  to 28*28 pixels \n",
    "                        # print(image)\n",
    "                data.append(image)\n",
    "        lables.append(label)\n",
    "        # print(len(data))\n",
    "# print(data[0])\n",
    "data=np.array(data,dtype=\"float32\")\n",
    "# print(data.shape)\n",
    "        # if(lables[0]==lables[1]):\n",
    "        #         print('true')\n",
    "lables=np.array(lables,dtype=\"int\")\n",
    "# print(lables.shape)\n",
    "#at the end converted into np array"
   ]
  },
  {
   "cell_type": "code",
   "execution_count": 5,
   "metadata": {},
   "outputs": [
    {
     "name": "stdout",
     "output_type": "stream",
     "text": [
      "(60000,)\n",
      "(70000, 28, 28)\n",
      "(56242,)\n"
     ]
    }
   ],
   "source": [
    "((trainData, trainLabels), (testData, testLabels)) = mnist.load_data()\n",
    "# print(trainData.shape)\n",
    "print(trainLabels.shape)\n",
    "data = np.vstack([trainData, testData])#it combines rows of the data \n",
    "print(data.shape)\n",
    "labels = np.hstack([trainLabels, testLabels])#it combines columns of the data \n",
    "print(lables.shape)\n"
   ]
  },
  {
   "cell_type": "code",
   "execution_count": 6,
   "metadata": {},
   "outputs": [],
   "source": [
    "from models import resnet\n",
    "from keras.preprocessing.image import ImageDataGenerator\n",
    "from keras.optimizers import SGD\n",
    "from sklearn.preprocessing import LabelBinarizer\n",
    "from sklearn.model_selection import train_test_split\n",
    "from sklearn.metrics import classification_report\n",
    "from imutils import build_montages\n",
    "import matplotlib.pyplot as plt\n",
    "import numpy as np\n",
    "import argparse\n",
    "import cv2\n"
   ]
  },
  {
   "cell_type": "code",
   "execution_count": null,
   "metadata": {},
   "outputs": [],
   "source": []
  }
 ],
 "metadata": {
  "kernelspec": {
   "display_name": "Python 3.10.6 64-bit",
   "language": "python",
   "name": "python3"
  },
  "language_info": {
   "codemirror_mode": {
    "name": "ipython",
    "version": 3
   },
   "file_extension": ".py",
   "mimetype": "text/x-python",
   "name": "python",
   "nbconvert_exporter": "python",
   "pygments_lexer": "ipython3",
   "version": "3.10.6"
  },
  "orig_nbformat": 4,
  "vscode": {
   "interpreter": {
    "hash": "e7370f93d1d0cde622a1f8e1c04877d8463912d04d973331ad4851f04de6915a"
   }
  }
 },
 "nbformat": 4,
 "nbformat_minor": 2
}
